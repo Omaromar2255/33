{
  "nbformat": 4,
  "nbformat_minor": 0,
  "metadata": {
    "colab": {
      "name": "22.blend.ipynb",
      "provenance": [],
      "collapsed_sections": [],
      "history_visible": true,
      "include_colab_link": true
    },
    "kernelspec": {
      "name": "python3",
      "display_name": "Python 3"
    },
    "language_info": {
      "name": "python"
    },
    "accelerator": "GPU"
  },
  "cells": [
    {
      "cell_type": "markdown",
      "metadata": {
        "id": "view-in-github",
        "colab_type": "text"
      },
      "source": [
        "<a href=\"https://colab.research.google.com/github/Omaromar2255/33/blob/main/22_blend.ipynb\" target=\"_parent\"><img src=\"https://colab.research.google.com/assets/colab-badge.svg\" alt=\"Open In Colab\"/></a>"
      ]
    },
    {
      "cell_type": "code",
      "source": [
        "from google.colab import drive\n",
        "drive.mount('/gdrive', force_remount=True)"
      ],
      "metadata": {
        "id": "ygEv0ATR5bFW",
        "colab": {
          "base_uri": "https://localhost:8080/"
        },
        "outputId": "4301913c-e443-4a59-c637-b43e54787854"
      },
      "execution_count": null,
      "outputs": [
        {
          "output_type": "stream",
          "name": "stdout",
          "text": [
            "Mounted at /gdrive\n"
          ]
        }
      ]
    },
    {
      "cell_type": "code",
      "source": [
        "blenderVersion = '3.2.2'\n",
        "isBlenderUrl = False\n",
        "isFileUrl = False\n",
        "renderEngine = 'CYCLES'\n",
        "renderer = 'CUDA'\n",
        "startFrame = 1\n",
        "endFrame = 100\n",
        "audio = False\n",
        "fileFormat = 'FFmpeg Video'\n",
        "logEnable = True\n",
        "animation = True\n",
        "token = 'eyJleHAiOiIyMDIyLTA4LTE3IDE5OjQ4OjExIn0='\n",
        "outputPath = '/gdrive/My Drive/UU/'\n",
        "blenderFilePath = '/gdrive/My Drive/22/22.blend'\n"
      ],
      "metadata": {
        "id": "configData"
      },
      "execution_count": null,
      "outputs": []
    },
    {
      "cell_type": "code",
      "source": [
        "import os\n",
        "\n",
        "os.system('pip install git+https://github.com/metafylabs/metablenderrenderer.git#egg=metalabblender')"
      ],
      "metadata": {
        "colab": {
          "base_uri": "https://localhost:8080/"
        },
        "id": "ZC3FYFsXkbBf",
        "outputId": "a5033fa1-11af-4ebb-a3b0-82174053c1ac"
      },
      "execution_count": null,
      "outputs": [
        {
          "output_type": "execute_result",
          "data": {
            "text/plain": [
              "0"
            ]
          },
          "metadata": {},
          "execution_count": 3
        }
      ]
    },
    {
      "cell_type": "code",
      "source": [
        "from metalabblender import blender\n",
        "\n",
        "blenderLib = blender.Blender(blenderFilePath, isFileUrl, outputPath, blenderVersion, isBlenderUrl, fileFormat, renderEngine, startFrame, endFrame, renderer, animation, audio, logEnable, token)\n",
        "blenderLib.setup()\n",
        "blenderLib.render()"
      ],
      "metadata": {
        "id": "62icG5NgXPrV",
        "colab": {
          "base_uri": "https://localhost:8080/"
        },
        "outputId": "40c3b7a1-f92b-44c4-8723-7c9682f84b2d"
      },
      "execution_count": null,
      "outputs": [
        {
          "output_type": "stream",
          "name": "stdout",
          "text": [
            "Current GPU: Tesla T4\n",
            "\n",
            "Blender installed...3.0.1\n",
            "Blocking print\n"
          ]
        }
      ]
    }
  ]
}